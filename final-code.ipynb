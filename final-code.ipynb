{
 "cells": [
  {
   "cell_type": "code",
   "execution_count": null,
   "id": "2615c04b",
   "metadata": {
    "_cell_guid": "b1076dfc-b9ad-4769-8c92-a6c4dae69d19",
    "_uuid": "8f2839f25d086af736a60e9eeb907d3b93b6e0e5",
    "execution": {
     "iopub.execute_input": "2024-11-17T22:23:46.816893Z",
     "iopub.status.busy": "2024-11-17T22:23:46.816589Z",
     "iopub.status.idle": "2024-11-17T22:23:48.640542Z",
     "shell.execute_reply": "2024-11-17T22:23:48.639523Z"
    },
    "papermill": {
     "duration": 1.830427,
     "end_time": "2024-11-17T22:23:48.642648",
     "exception": false,
     "start_time": "2024-11-17T22:23:46.812221",
     "status": "completed"
    },
    "tags": []
   },
   "outputs": [
    {
     "name": "stdout",
     "output_type": "stream",
     "text": [
      "Cloning into 'Meesho-Data-Challenge-2024'...\r\n",
      "remote: Enumerating objects: 73, done.\u001b[K\r\n",
      "remote: Counting objects: 100% (73/73), done.\u001b[K\r\n",
      "remote: Compressing objects: 100% (51/51), done.\u001b[K\r\n",
      "remote: Total 73 (delta 42), reused 47 (delta 22), pack-reused 0 (from 0)\u001b[K\r\n",
      "Receiving objects: 100% (73/73), 33.98 KiB | 599.00 KiB/s, done.\r\n",
      "Resolving deltas: 100% (42/42), done.\r\n"
     ]
    }
   ],
   "source": [
    "!git clone https://github.com/nachiketashunya/GenAI-Project.git"
   ]
  },
  {
   "cell_type": "code",
   "execution_count": null,
   "id": "ce8a8e32",
   "metadata": {
    "execution": {
     "iopub.execute_input": "2024-11-17T22:23:48.651297Z",
     "iopub.status.busy": "2024-11-17T22:23:48.650971Z",
     "iopub.status.idle": "2024-11-17T22:26:49.796595Z",
     "shell.execute_reply": "2024-11-17T22:26:49.795364Z"
    },
    "papermill": {
     "duration": 181.152754,
     "end_time": "2024-11-17T22:26:49.799080",
     "exception": false,
     "start_time": "2024-11-17T22:23:48.646326",
     "status": "completed"
    },
    "tags": []
   },
   "outputs": [],
   "source": [
    "%%capture\n",
    "!pip install -r /kaggle/working/GenAI-Project/requirements.txt"
   ]
  },
  {
   "cell_type": "markdown",
   "id": "ac250101",
   "metadata": {
    "papermill": {
     "duration": 0.003301,
     "end_time": "2024-11-17T22:26:49.806269",
     "exception": false,
     "start_time": "2024-11-17T22:26:49.802968",
     "status": "completed"
    },
    "tags": []
   },
   "source": [
    "### Create `yaml` file to train the model"
   ]
  },
  {
   "cell_type": "code",
   "execution_count": 3,
   "id": "29c0e431",
   "metadata": {
    "execution": {
     "iopub.execute_input": "2024-11-17T22:26:49.814614Z",
     "iopub.status.busy": "2024-11-17T22:26:49.814241Z",
     "iopub.status.idle": "2024-11-17T22:26:49.864671Z",
     "shell.execute_reply": "2024-11-17T22:26:49.863759Z"
    },
    "papermill": {
     "duration": 0.056955,
     "end_time": "2024-11-17T22:26:49.866568",
     "exception": false,
     "start_time": "2024-11-17T22:26:49.809613",
     "status": "completed"
    },
    "tags": []
   },
   "outputs": [
    {
     "name": "stdout",
     "output_type": "stream",
     "text": [
      "YAML file saved to /kaggle/working/config.yml\n"
     ]
    }
   ],
   "source": [
    "import yaml\n",
    "import os\n",
    "\n",
    "# Content to be saved in the YAML file\n",
    "config_data = {\n",
    "    \"paths\": {\n",
    "        \"data_dir\": \"/kaggle/input/visual-taxonomy\",\n",
    "        \"train_csv\": \"train.csv\",\n",
    "        \"train_images\": \"train_images\",\n",
    "        \"log_dir\": \"logs\",\n",
    "        \"cache_dir\": \"/kaggle/working/\",\n",
    "        \"checkpoint_dir\": \"/kaggle/working/\",\n",
    "    },\n",
    "    \"wandb\": {\n",
    "        \"using\": False,\n",
    "        \"api_key\": \"your_wandb_api_key\",\n",
    "        \"project\": \"project_name\",\n",
    "        \"run_name_template\": \"{hidden_dim}x{num_hidden_layers}_training\",\n",
    "    },\n",
    "    \"training\": {\n",
    "        \"batch_size\": 16,\n",
    "        \"num_epochs\": 10,\n",
    "        \"accumulation_steps\": 2,\n",
    "    },\n",
    "    \"model\": {\n",
    "        \"name\": \"ConvNext-XXLarge\", # Replace the Model with desired CLIP Model\n",
    "        \"pretrained\": \"laion2b\", # Corresponding Pretrained Dataset\n",
    "        \"clip_dim\": 1024, # Don't forget to change this\n",
    "        \"hidden_dim\": [256],\n",
    "        \"dropout_rate\": [0.1],\n",
    "        \"num_hidden_layers\": [1],\n",
    "    },\n",
    "    \"optimizer\": {\n",
    "        \"clip_lr\": [1e-5],\n",
    "        \"predictor_lr\": [5e-5],\n",
    "        \"weight_decay\": [0.001],\n",
    "        \"beta1\": [0.9],\n",
    "        \"beta2\": [0.999],\n",
    "    },\n",
    "    \"scheduler\": {\n",
    "        \"gamma\": 0.1,\n",
    "        \"milestones\": [4, 6, 10],\n",
    "    },\n",
    "}\n",
    "\n",
    "# Specify the directory and file name\n",
    "output_dir = \"/kaggle/working/\"  # Replace with the desired directory\n",
    "file_name = \"config.yml\"\n",
    "\n",
    "# Ensure the directory exists\n",
    "os.makedirs(output_dir, exist_ok=True)\n",
    "\n",
    "# Full file path\n",
    "file_path = os.path.join(output_dir, file_name)\n",
    "\n",
    "# Write the YAML content to the file\n",
    "with open(file_path, \"w\") as file:\n",
    "    yaml.dump(config_data, file, default_flow_style=False)\n",
    "\n",
    "print(f\"YAML file saved to {file_path}\")"
   ]
  },
  {
   "cell_type": "code",
   "execution_count": null,
   "id": "9f0bdb07",
   "metadata": {
    "execution": {
     "iopub.execute_input": "2024-11-17T22:26:49.874905Z",
     "iopub.status.busy": "2024-11-17T22:26:49.874215Z",
     "iopub.status.idle": "2024-11-17T22:26:49.880299Z",
     "shell.execute_reply": "2024-11-17T22:26:49.879258Z"
    },
    "papermill": {
     "duration": 0.012176,
     "end_time": "2024-11-17T22:26:49.882196",
     "exception": false,
     "start_time": "2024-11-17T22:26:49.870020",
     "status": "completed"
    },
    "tags": []
   },
   "outputs": [
    {
     "name": "stdout",
     "output_type": "stream",
     "text": [
      "/kaggle/working/Meesho-Data-Challenge-2024\n"
     ]
    }
   ],
   "source": [
    "%cd /kaggle/working/GenAI-Project"
   ]
  },
  {
   "cell_type": "code",
   "execution_count": 5,
   "id": "5a965563",
   "metadata": {
    "execution": {
     "iopub.execute_input": "2024-11-17T22:26:49.890397Z",
     "iopub.status.busy": "2024-11-17T22:26:49.890089Z",
     "iopub.status.idle": "2024-11-17T22:26:49.896627Z",
     "shell.execute_reply": "2024-11-17T22:26:49.895785Z"
    },
    "papermill": {
     "duration": 0.012922,
     "end_time": "2024-11-17T22:26:49.898692",
     "exception": false,
     "start_time": "2024-11-17T22:26:49.885770",
     "status": "completed"
    },
    "tags": []
   },
   "outputs": [
    {
     "data": {
      "text/plain": [
       "'Uncomment this to train the model'"
      ]
     },
     "execution_count": 5,
     "metadata": {},
     "output_type": "execute_result"
    }
   ],
   "source": [
    "\"\"\"Uncomment this to train the model\"\"\"\n",
    "# !python train.py --config_path /kaggle/working/config.yml"
   ]
  },
  {
   "cell_type": "code",
   "execution_count": 6,
   "id": "9939853f",
   "metadata": {
    "execution": {
     "iopub.execute_input": "2024-11-17T22:26:49.908330Z",
     "iopub.status.busy": "2024-11-17T22:26:49.908056Z",
     "iopub.status.idle": "2024-11-17T22:57:35.305660Z",
     "shell.execute_reply": "2024-11-17T22:57:35.304570Z"
    },
    "papermill": {
     "duration": 1845.405672,
     "end_time": "2024-11-17T22:57:35.308145",
     "exception": false,
     "start_time": "2024-11-17T22:26:49.902473",
     "status": "completed"
    },
    "tags": []
   },
   "outputs": [
    {
     "name": "stdout",
     "output_type": "stream",
     "text": [
      "open_clip_pytorch_model.bin: 100%|█████████| 3.94G/3.94G [01:33<00:00, 42.1MB/s]\r\n",
      "open_clip_pytorch_model.bin: 100%|██████████| 4.80G/4.80G [00:22<00:00, 211MB/s]\r\n",
      "Loaded both the models Successfully\r\n",
      "Processing 30205 valid images out of 30205 total entries\r\n",
      "Batch size: 64\r\n",
      "Processing batches: 100%|█| 472/472 [25:48<00:00,  3.28s/batch, Per Image Time=0\r\n",
      "Results saved to submission.csv\r\n"
     ]
    }
   ],
   "source": [
    "\"\"\"Uncomment this to inference on trained models\"\"\"\n",
    "!python inference.py \\\n",
    "--input_csv /kaggle/input/visual-taxonomy/test.csv \\\n",
    "--image_dir /kaggle/input/visual-taxonomy/test_images \\\n",
    "--model_path_convnext /kaggle/input/openclip-convnext-xxlarge-epoch-4/pytorch/default/1/Final_clip_convnext_xxlarge_laion3_4_train_032301.pth \\\n",
    "--output_csv submission.csv \\\n",
    "--model_path_gelu /kaggle/input/vit-h-14-quickgelu-fulltrain-e4/pytorch/default/1/vith14_gelu_highest_f1.pth \\\n",
    "--cache_dir /kaggle/working/"
   ]
  },
  {
   "cell_type": "code",
   "execution_count": null,
   "id": "86305830",
   "metadata": {
    "papermill": {
     "duration": 0.102035,
     "end_time": "2024-11-17T22:57:35.514765",
     "exception": false,
     "start_time": "2024-11-17T22:57:35.412730",
     "status": "completed"
    },
    "tags": []
   },
   "outputs": [],
   "source": []
  }
 ],
 "metadata": {
  "kaggle": {
   "accelerator": "nvidiaTeslaT4",
   "dataSources": [
    {
     "databundleVersionId": 9755748,
     "sourceId": 84705,
     "sourceType": "competition"
    },
    {
     "modelId": 166367,
     "modelInstanceId": 143783,
     "sourceId": 169004,
     "sourceType": "modelInstanceVersion"
    },
    {
     "isSourceIdPinned": true,
     "modelId": 167155,
     "modelInstanceId": 144593,
     "sourceId": 169961,
     "sourceType": "modelInstanceVersion"
    }
   ],
   "dockerImageVersionId": 30787,
   "isGpuEnabled": true,
   "isInternetEnabled": true,
   "language": "python",
   "sourceType": "notebook"
  },
  "kernelspec": {
   "display_name": "Python 3",
   "language": "python",
   "name": "python3"
  },
  "language_info": {
   "codemirror_mode": {
    "name": "ipython",
    "version": 3
   },
   "file_extension": ".py",
   "mimetype": "text/x-python",
   "name": "python",
   "nbconvert_exporter": "python",
   "pygments_lexer": "ipython3",
   "version": "3.10.14"
  },
  "papermill": {
   "default_parameters": {},
   "duration": 2031.986122,
   "end_time": "2024-11-17T22:57:35.935938",
   "environment_variables": {},
   "exception": null,
   "input_path": "__notebook__.ipynb",
   "output_path": "__notebook__.ipynb",
   "parameters": {},
   "start_time": "2024-11-17T22:23:43.949816",
   "version": "2.6.0"
  }
 },
 "nbformat": 4,
 "nbformat_minor": 5
}
